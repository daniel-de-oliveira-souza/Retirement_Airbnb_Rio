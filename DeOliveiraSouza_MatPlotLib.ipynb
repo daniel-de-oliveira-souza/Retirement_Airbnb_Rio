{
 "cells": [
  {
   "cell_type": "markdown",
   "metadata": {},
   "source": [
    "# Retirement plan - Airbnb in Rio\n",
    "\n",
    "## The goal of this project is to solidify an investment back at home in Rio\n",
    "## to prepare for my retirement.\n",
    "\n",
    "#### One of the most efficient ways to do it is through the purchase of a property in Rio to Airbnb.\n",
    "\n",
    "\n",
    "#### To accomplish it, I imported Airbnb data sets available at insideairbnb.com. "
   ]
  },
  {
   "cell_type": "code",
   "execution_count": 1,
   "metadata": {},
   "outputs": [],
   "source": [
    "import numpy as np\n",
    "import pandas as pd\n",
    "from pandas.plotting import scatter_matrix, parallel_coordinates\n",
    "import seaborn as sns\n",
    "import matplotlib.pylab as plt\n",
    "import matplotlib.pyplot as plt\n",
    "%matplotlib inline\n",
    "import csv\n",
    "\n",
    "listings_file = 'listings.csv'\n",
    "listings_review_file = 'reviews.csv'"
   ]
  },
  {
   "cell_type": "markdown",
   "metadata": {},
   "source": [
    "#### Then, I started the analysis by cleaning the data, selecting only the data points that are relevant to my investigation. "
   ]
  },
  {
   "cell_type": "code",
   "execution_count": 2,
   "metadata": {},
   "outputs": [
    {
     "data": {
      "text/html": [
       "<div>\n",
       "<style scoped>\n",
       "    .dataframe tbody tr th:only-of-type {\n",
       "        vertical-align: middle;\n",
       "    }\n",
       "\n",
       "    .dataframe tbody tr th {\n",
       "        vertical-align: top;\n",
       "    }\n",
       "\n",
       "    .dataframe thead th {\n",
       "        text-align: right;\n",
       "    }\n",
       "</style>\n",
       "<table border=\"1\" class=\"dataframe\">\n",
       "  <thead>\n",
       "    <tr style=\"text-align: right;\">\n",
       "      <th></th>\n",
       "      <th>id</th>\n",
       "      <th>host_id</th>\n",
       "      <th>host_name</th>\n",
       "      <th>neighbourhood</th>\n",
       "      <th>room_type</th>\n",
       "      <th>price</th>\n",
       "      <th>number_of_reviews</th>\n",
       "      <th>reviews_per_month</th>\n",
       "      <th>calculated_host_listings_count</th>\n",
       "      <th>availability_365</th>\n",
       "    </tr>\n",
       "  </thead>\n",
       "  <tbody>\n",
       "    <tr>\n",
       "      <th>0</th>\n",
       "      <td>17878</td>\n",
       "      <td>68997</td>\n",
       "      <td>Matthias</td>\n",
       "      <td>Copacabana</td>\n",
       "      <td>Entire home/apt</td>\n",
       "      <td>190</td>\n",
       "      <td>252</td>\n",
       "      <td>2.07</td>\n",
       "      <td>1</td>\n",
       "      <td>184</td>\n",
       "    </tr>\n",
       "    <tr>\n",
       "      <th>1</th>\n",
       "      <td>21280</td>\n",
       "      <td>81163</td>\n",
       "      <td>Jules</td>\n",
       "      <td>Ipanema</td>\n",
       "      <td>Entire home/apt</td>\n",
       "      <td>421</td>\n",
       "      <td>94</td>\n",
       "      <td>1.20</td>\n",
       "      <td>1</td>\n",
       "      <td>64</td>\n",
       "    </tr>\n",
       "    <tr>\n",
       "      <th>2</th>\n",
       "      <td>25026</td>\n",
       "      <td>102840</td>\n",
       "      <td>Viviane</td>\n",
       "      <td>Copacabana</td>\n",
       "      <td>Entire home/apt</td>\n",
       "      <td>158</td>\n",
       "      <td>238</td>\n",
       "      <td>1.93</td>\n",
       "      <td>3</td>\n",
       "      <td>180</td>\n",
       "    </tr>\n",
       "    <tr>\n",
       "      <th>3</th>\n",
       "      <td>31560</td>\n",
       "      <td>135635</td>\n",
       "      <td>Renata</td>\n",
       "      <td>Ipanema</td>\n",
       "      <td>Entire home/apt</td>\n",
       "      <td>342</td>\n",
       "      <td>282</td>\n",
       "      <td>2.31</td>\n",
       "      <td>1</td>\n",
       "      <td>0</td>\n",
       "    </tr>\n",
       "    <tr>\n",
       "      <th>4</th>\n",
       "      <td>35636</td>\n",
       "      <td>153232</td>\n",
       "      <td>Patricia</td>\n",
       "      <td>Ipanema</td>\n",
       "      <td>Entire home/apt</td>\n",
       "      <td>463</td>\n",
       "      <td>181</td>\n",
       "      <td>2.20</td>\n",
       "      <td>1</td>\n",
       "      <td>203</td>\n",
       "    </tr>\n",
       "  </tbody>\n",
       "</table>\n",
       "</div>"
      ],
      "text/plain": [
       "      id  host_id host_name neighbourhood        room_type  price  \\\n",
       "0  17878    68997  Matthias    Copacabana  Entire home/apt    190   \n",
       "1  21280    81163     Jules       Ipanema  Entire home/apt    421   \n",
       "2  25026   102840   Viviane    Copacabana  Entire home/apt    158   \n",
       "3  31560   135635    Renata       Ipanema  Entire home/apt    342   \n",
       "4  35636   153232  Patricia       Ipanema  Entire home/apt    463   \n",
       "\n",
       "   number_of_reviews  reviews_per_month  calculated_host_listings_count  \\\n",
       "0                252               2.07                               1   \n",
       "1                 94               1.20                               1   \n",
       "2                238               1.93                               3   \n",
       "3                282               2.31                               1   \n",
       "4                181               2.20                               1   \n",
       "\n",
       "   availability_365  \n",
       "0               184  \n",
       "1                64  \n",
       "2               180  \n",
       "3                 0  \n",
       "4               203  "
      ]
     },
     "execution_count": 2,
     "metadata": {},
     "output_type": "execute_result"
    }
   ],
   "source": [
    "rio = pd.read_csv(listings_file)\n",
    "\n",
    "columns = ['id',\n",
    "           'host_id',\n",
    "           'host_name',\n",
    "           'neighbourhood',\n",
    "           'room_type',\n",
    "           'price',\n",
    "           'number_of_reviews',\n",
    "           'reviews_per_month',\n",
    "           'calculated_host_listings_count',\n",
    "           'availability_365']\n",
    "           \n",
    "rio = pd.read_csv(listings_file, usecols=columns)\n",
    "rio.head()\n"
   ]
  },
  {
   "cell_type": "markdown",
   "metadata": {},
   "source": [
    "#### Also, I replaced Null values with zeros, listings where price and availability cells were equal to zero, to make the data more structured and pleasant to the eye. "
   ]
  },
  {
   "cell_type": "code",
   "execution_count": 3,
   "metadata": {},
   "outputs": [
    {
     "data": {
      "text/html": [
       "<div>\n",
       "<style scoped>\n",
       "    .dataframe tbody tr th:only-of-type {\n",
       "        vertical-align: middle;\n",
       "    }\n",
       "\n",
       "    .dataframe tbody tr th {\n",
       "        vertical-align: top;\n",
       "    }\n",
       "\n",
       "    .dataframe thead th {\n",
       "        text-align: right;\n",
       "    }\n",
       "</style>\n",
       "<table border=\"1\" class=\"dataframe\">\n",
       "  <thead>\n",
       "    <tr style=\"text-align: right;\">\n",
       "      <th></th>\n",
       "      <th>id</th>\n",
       "      <th>host_id</th>\n",
       "      <th>host_name</th>\n",
       "      <th>neighbourhood</th>\n",
       "      <th>room_type</th>\n",
       "      <th>price</th>\n",
       "      <th>number_of_reviews</th>\n",
       "      <th>reviews_per_month</th>\n",
       "      <th>calculated_host_listings_count</th>\n",
       "      <th>availability_365</th>\n",
       "    </tr>\n",
       "  </thead>\n",
       "  <tbody>\n",
       "    <tr>\n",
       "      <th>0</th>\n",
       "      <td>17878</td>\n",
       "      <td>68997</td>\n",
       "      <td>Matthias</td>\n",
       "      <td>Copacabana</td>\n",
       "      <td>Entire home/apt</td>\n",
       "      <td>190</td>\n",
       "      <td>252</td>\n",
       "      <td>2.07</td>\n",
       "      <td>1</td>\n",
       "      <td>184</td>\n",
       "    </tr>\n",
       "    <tr>\n",
       "      <th>1</th>\n",
       "      <td>21280</td>\n",
       "      <td>81163</td>\n",
       "      <td>Jules</td>\n",
       "      <td>Ipanema</td>\n",
       "      <td>Entire home/apt</td>\n",
       "      <td>421</td>\n",
       "      <td>94</td>\n",
       "      <td>1.20</td>\n",
       "      <td>1</td>\n",
       "      <td>64</td>\n",
       "    </tr>\n",
       "    <tr>\n",
       "      <th>2</th>\n",
       "      <td>25026</td>\n",
       "      <td>102840</td>\n",
       "      <td>Viviane</td>\n",
       "      <td>Copacabana</td>\n",
       "      <td>Entire home/apt</td>\n",
       "      <td>158</td>\n",
       "      <td>238</td>\n",
       "      <td>1.93</td>\n",
       "      <td>3</td>\n",
       "      <td>180</td>\n",
       "    </tr>\n",
       "    <tr>\n",
       "      <th>4</th>\n",
       "      <td>35636</td>\n",
       "      <td>153232</td>\n",
       "      <td>Patricia</td>\n",
       "      <td>Ipanema</td>\n",
       "      <td>Entire home/apt</td>\n",
       "      <td>463</td>\n",
       "      <td>181</td>\n",
       "      <td>2.20</td>\n",
       "      <td>1</td>\n",
       "      <td>203</td>\n",
       "    </tr>\n",
       "    <tr>\n",
       "      <th>5</th>\n",
       "      <td>35764</td>\n",
       "      <td>153691</td>\n",
       "      <td>Patricia Miranda &amp; Paulo</td>\n",
       "      <td>Copacabana</td>\n",
       "      <td>Entire home/apt</td>\n",
       "      <td>132</td>\n",
       "      <td>332</td>\n",
       "      <td>2.78</td>\n",
       "      <td>1</td>\n",
       "      <td>97</td>\n",
       "    </tr>\n",
       "    <tr>\n",
       "      <th>6</th>\n",
       "      <td>48305</td>\n",
       "      <td>70933</td>\n",
       "      <td>Alex</td>\n",
       "      <td>Ipanema</td>\n",
       "      <td>Entire home/apt</td>\n",
       "      <td>4227</td>\n",
       "      <td>75</td>\n",
       "      <td>0.66</td>\n",
       "      <td>5</td>\n",
       "      <td>342</td>\n",
       "    </tr>\n",
       "    <tr>\n",
       "      <th>7</th>\n",
       "      <td>48726</td>\n",
       "      <td>221941</td>\n",
       "      <td>Vana</td>\n",
       "      <td>Copacabana</td>\n",
       "      <td>Private room</td>\n",
       "      <td>100</td>\n",
       "      <td>42</td>\n",
       "      <td>1.27</td>\n",
       "      <td>1</td>\n",
       "      <td>90</td>\n",
       "    </tr>\n",
       "    <tr>\n",
       "      <th>8</th>\n",
       "      <td>48901</td>\n",
       "      <td>222884</td>\n",
       "      <td>Marcio</td>\n",
       "      <td>Copacabana</td>\n",
       "      <td>Entire home/apt</td>\n",
       "      <td>548</td>\n",
       "      <td>4</td>\n",
       "      <td>0.07</td>\n",
       "      <td>1</td>\n",
       "      <td>354</td>\n",
       "    </tr>\n",
       "    <tr>\n",
       "      <th>9</th>\n",
       "      <td>49179</td>\n",
       "      <td>224192</td>\n",
       "      <td>David</td>\n",
       "      <td>Copacabana</td>\n",
       "      <td>Entire home/apt</td>\n",
       "      <td>263</td>\n",
       "      <td>83</td>\n",
       "      <td>0.89</td>\n",
       "      <td>38</td>\n",
       "      <td>270</td>\n",
       "    </tr>\n",
       "    <tr>\n",
       "      <th>10</th>\n",
       "      <td>50294</td>\n",
       "      <td>70933</td>\n",
       "      <td>Alex</td>\n",
       "      <td>Ipanema</td>\n",
       "      <td>Entire home/apt</td>\n",
       "      <td>1211</td>\n",
       "      <td>72</td>\n",
       "      <td>0.66</td>\n",
       "      <td>5</td>\n",
       "      <td>334</td>\n",
       "    </tr>\n",
       "    <tr>\n",
       "      <th>11</th>\n",
       "      <td>50759</td>\n",
       "      <td>233554</td>\n",
       "      <td>Felipe</td>\n",
       "      <td>Barra da Tijuca</td>\n",
       "      <td>Entire home/apt</td>\n",
       "      <td>3189</td>\n",
       "      <td>7</td>\n",
       "      <td>0.12</td>\n",
       "      <td>5</td>\n",
       "      <td>365</td>\n",
       "    </tr>\n",
       "  </tbody>\n",
       "</table>\n",
       "</div>"
      ],
      "text/plain": [
       "       id  host_id                 host_name    neighbourhood  \\\n",
       "0   17878    68997                  Matthias       Copacabana   \n",
       "1   21280    81163                     Jules          Ipanema   \n",
       "2   25026   102840                   Viviane       Copacabana   \n",
       "4   35636   153232                  Patricia          Ipanema   \n",
       "5   35764   153691  Patricia Miranda & Paulo       Copacabana   \n",
       "6   48305    70933                      Alex          Ipanema   \n",
       "7   48726   221941                      Vana       Copacabana   \n",
       "8   48901   222884                    Marcio       Copacabana   \n",
       "9   49179   224192                     David       Copacabana   \n",
       "10  50294    70933                      Alex          Ipanema   \n",
       "11  50759   233554                    Felipe  Barra da Tijuca   \n",
       "\n",
       "          room_type  price  number_of_reviews  reviews_per_month  \\\n",
       "0   Entire home/apt    190                252               2.07   \n",
       "1   Entire home/apt    421                 94               1.20   \n",
       "2   Entire home/apt    158                238               1.93   \n",
       "4   Entire home/apt    463                181               2.20   \n",
       "5   Entire home/apt    132                332               2.78   \n",
       "6   Entire home/apt   4227                 75               0.66   \n",
       "7      Private room    100                 42               1.27   \n",
       "8   Entire home/apt    548                  4               0.07   \n",
       "9   Entire home/apt    263                 83               0.89   \n",
       "10  Entire home/apt   1211                 72               0.66   \n",
       "11  Entire home/apt   3189                  7               0.12   \n",
       "\n",
       "    calculated_host_listings_count  availability_365  \n",
       "0                                1               184  \n",
       "1                                1                64  \n",
       "2                                3               180  \n",
       "4                                1               203  \n",
       "5                                1                97  \n",
       "6                                5               342  \n",
       "7                                1                90  \n",
       "8                                1               354  \n",
       "9                               38               270  \n",
       "10                               5               334  \n",
       "11                               5               365  "
      ]
     },
     "execution_count": 3,
     "metadata": {},
     "output_type": "execute_result"
    }
   ],
   "source": [
    "# replacing Null values with Zero\n",
    "rio.fillna(0, inplace=True)\n",
    "\n",
    "# excluding listings with \"0\" for price and 'availability_365'\n",
    "rio = rio[rio.price > 0]\n",
    "rio = rio[rio.availability_365 > 0]\n",
    "\n",
    "rio[0:11]"
   ]
  },
  {
   "cell_type": "markdown",
   "metadata": {},
   "source": [
    "### From that point on, the goal was to find the most popular spots to host. I started by checking the frequency of listings in Rio separated by neighborhood"
   ]
  },
  {
   "cell_type": "code",
   "execution_count": 4,
   "metadata": {},
   "outputs": [
    {
     "data": {
      "text/plain": [
       "<matplotlib.axes._subplots.AxesSubplot at 0x7ff3580b3890>"
      ]
     },
     "execution_count": 4,
     "metadata": {},
     "output_type": "execute_result"
    },
    {
     "data": {
      "image/png": "[encoded data removed]",
      "text/plain": [
       "<Figure size 1800x576 with 1 Axes>"
      ]
     },
     "metadata": {
      "needs_background": "light"
     },
     "output_type": "display_data"
    }
   ],
   "source": [
    "from collections import Counter\n",
    "n = Counter(rio['neighbourhood'])\n",
    "n_df = pd.DataFrame.from_dict(n, orient='index').sort_values(by=0)\n",
    "n_df.iloc[120:].plot(kind='bar', \n",
    "           color = 'Blue',\n",
    "           figsize =(25,8), \n",
    "           title = 'Rio Neighborhood Frequency of Listings', \n",
    "           legend = False)\n"
   ]
  },
  {
   "cell_type": "markdown",
   "metadata": {},
   "source": [
    "### Through analyzing the frequency of listings per neighborhood, I found out that Copacabana, Barra da Tijuca, and Ipanema are the neighborhoods with the most listings.\n",
    "\n",
    "### Also, I checked the average price for a room in Rio, converting it to USD. The average price is 129 dollars."
   ]
  },
  {
   "cell_type": "code",
   "execution_count": 5,
   "metadata": {},
   "outputs": [
    {
     "data": {
      "text/plain": [
       "129.32053849942253"
      ]
     },
     "execution_count": 5,
     "metadata": {},
     "output_type": "execute_result"
    }
   ],
   "source": [
    "#Rio's currency (BRL) is worth 5x less than USD.\n",
    "\n",
    "rio['price'] /= 5\n",
    "\n",
    "average_price = sum(rio.price) / float(len(rio.price))\n",
    "average_price"
   ]
  },
  {
   "cell_type": "markdown",
   "metadata": {},
   "source": [
    "### However, knowing the most popular spots to host and the average price doesn't mean that I have found my perfect match."
   ]
  },
  {
   "cell_type": "code",
   "execution_count": 6,
   "metadata": {},
   "outputs": [
    {
     "data": {
      "text/html": [
       "<div>\n",
       "<style scoped>\n",
       "    .dataframe tbody tr th:only-of-type {\n",
       "        vertical-align: middle;\n",
       "    }\n",
       "\n",
       "    .dataframe tbody tr th {\n",
       "        vertical-align: top;\n",
       "    }\n",
       "\n",
       "    .dataframe thead th {\n",
       "        text-align: right;\n",
       "    }\n",
       "</style>\n",
       "<table border=\"1\" class=\"dataframe\">\n",
       "  <thead>\n",
       "    <tr style=\"text-align: right;\">\n",
       "      <th></th>\n",
       "      <th>neighbourhood</th>\n",
       "      <th>price</th>\n",
       "      <th>number of listings</th>\n",
       "    </tr>\n",
       "  </thead>\n",
       "  <tbody>\n",
       "    <tr>\n",
       "      <th>0</th>\n",
       "      <td>Abolição</td>\n",
       "      <td>94.450000</td>\n",
       "      <td>6953</td>\n",
       "    </tr>\n",
       "    <tr>\n",
       "      <th>1</th>\n",
       "      <td>Alto da Boa Vista</td>\n",
       "      <td>375.395122</td>\n",
       "      <td>2247</td>\n",
       "    </tr>\n",
       "    <tr>\n",
       "      <th>2</th>\n",
       "      <td>Anchieta</td>\n",
       "      <td>64.933333</td>\n",
       "      <td>2572</td>\n",
       "    </tr>\n",
       "    <tr>\n",
       "      <th>3</th>\n",
       "      <td>Andaraí</td>\n",
       "      <td>227.368000</td>\n",
       "      <td>547</td>\n",
       "    </tr>\n",
       "    <tr>\n",
       "      <th>4</th>\n",
       "      <td>Anil</td>\n",
       "      <td>75.068421</td>\n",
       "      <td>185</td>\n",
       "    </tr>\n",
       "    <tr>\n",
       "      <th>...</th>\n",
       "      <td>...</td>\n",
       "      <td>...</td>\n",
       "      <td>...</td>\n",
       "    </tr>\n",
       "    <tr>\n",
       "      <th>148</th>\n",
       "      <td>Vila Militar</td>\n",
       "      <td>221.533333</td>\n",
       "      <td>1</td>\n",
       "    </tr>\n",
       "    <tr>\n",
       "      <th>149</th>\n",
       "      <td>Vila Valqueire</td>\n",
       "      <td>66.450000</td>\n",
       "      <td>1</td>\n",
       "    </tr>\n",
       "    <tr>\n",
       "      <th>150</th>\n",
       "      <td>Vila da Penha</td>\n",
       "      <td>31.018182</td>\n",
       "      <td>1</td>\n",
       "    </tr>\n",
       "    <tr>\n",
       "      <th>151</th>\n",
       "      <td>Vista Alegre</td>\n",
       "      <td>16.400000</td>\n",
       "      <td>1</td>\n",
       "    </tr>\n",
       "    <tr>\n",
       "      <th>152</th>\n",
       "      <td>Água Santa</td>\n",
       "      <td>64.800000</td>\n",
       "      <td>1</td>\n",
       "    </tr>\n",
       "  </tbody>\n",
       "</table>\n",
       "<p>153 rows × 3 columns</p>\n",
       "</div>"
      ],
      "text/plain": [
       "         neighbourhood       price  number of listings\n",
       "0             Abolição   94.450000                6953\n",
       "1    Alto da Boa Vista  375.395122                2247\n",
       "2             Anchieta   64.933333                2572\n",
       "3              Andaraí  227.368000                 547\n",
       "4                 Anil   75.068421                 185\n",
       "..                 ...         ...                 ...\n",
       "148       Vila Militar  221.533333                   1\n",
       "149     Vila Valqueire   66.450000                   1\n",
       "150      Vila da Penha   31.018182                   1\n",
       "151       Vista Alegre   16.400000                   1\n",
       "152         Água Santa   64.800000                   1\n",
       "\n",
       "[153 rows x 3 columns]"
      ]
     },
     "execution_count": 6,
     "metadata": {},
     "output_type": "execute_result"
    }
   ],
   "source": [
    "#For someone used to NYC prices, $129 is actually not that bad.\n",
    "#I would like to find a neigborhood where average prices are between $175 and $200. \n",
    "#In order to get there, let's find out the average prices for each neighborhood in Rio.\n",
    "\n",
    "# First, we extract the names of the neighborhoods\n",
    "neighborhood_names = list(n.keys())\n",
    "\n",
    "# Then we create a table with names and prices\n",
    "n_prices = rio[['neighbourhood', 'price']]\n",
    "n_prices.columns = ['neighbourhood', 'price']\n",
    "\n",
    "# we pick out the rows which have neighborhood names\n",
    "n_prices = n_prices[n_prices['neighbourhood'].isin(neighborhood_names)]\n",
    "\n",
    "# group by neighbourhood and then aggreate the prices based on mean\n",
    "n_prices_group = n_prices.groupby('neighbourhood')\n",
    "n_prices = n_prices_group['price'].agg(np.mean)\n",
    "\n",
    "# turn dictionary's keys and values into a table for easy read\n",
    "n_prices = n_prices.reset_index()\n",
    "n_prices['number of listings'] = n.values()\n",
    "\n",
    "n_prices"
   ]
  },
  {
   "cell_type": "markdown",
   "metadata": {},
   "source": [
    "### To narrow down my options, I created a second bar chart to show the neighborhoods that most offer rooms at a 200 dollars rate."
   ]
  },
  {
   "cell_type": "code",
   "execution_count": 7,
   "metadata": {},
   "outputs": [
    {
     "data": {
      "text/plain": [
       "<matplotlib.axes._subplots.AxesSubplot at 0x7ff3550233d0>"
      ]
     },
     "execution_count": 7,
     "metadata": {},
     "output_type": "execute_result"
    },
    {
     "data": {
      "image/png": "[encoded data removed]",
      "text/plain": [
       "<Figure size 1080x576 with 1 Axes>"
      ]
     },
     "metadata": {
      "needs_background": "light"
     },
     "output_type": "display_data"
    }
   ],
   "source": [
    "p = n_prices.sort_values(by = 'price')\n",
    "p.iloc[130:140].plot(x = \"neighbourhood\",\n",
    "       y = \"price\",\n",
    "       kind='bar', \n",
    "       color = 'LightBlue', \n",
    "       figsize =(15,8), \n",
    "       title = 'Price per Neighorhood', \n",
    "       legend = False)"
   ]
  },
  {
   "cell_type": "markdown",
   "metadata": {},
   "source": [
    "### The second chart gave me Lagoa as the neighborhood with the most 200 dollars listings.\n",
    "\n",
    "### A histogram gave me extra peace of mind, as I was able to see that other neighborhoods offer, on average, rooms at similar rates, just in case properties in Lagoa are not available for purchase."
   ]
  },
  {
   "cell_type": "code",
   "execution_count": 8,
   "metadata": {},
   "outputs": [
    {
     "data": {
      "image/png": "[encoded data removed]",
      "text/plain": [
       "<Figure size 432x288 with 1 Axes>"
      ]
     },
     "metadata": {
      "needs_background": "light"
     },
     "output_type": "display_data"
    }
   ],
   "source": [
    "fig, ax = plt.subplots()\n",
    "ax.hist(n_prices.price)\n",
    "ax.set_axisbelow(True)  # Show the grid lines behind the histogram\n",
    "ax.grid(which='major', color='grey', linestyle='--')\n",
    "ax.set_xlabel('Price')\n",
    "ax.set_ylabel('count')\n",
    "plt.title('Price distribution in Rio')\n",
    "plt.show()"
   ]
  },
  {
   "cell_type": "markdown",
   "metadata": {},
   "source": [
    "### By curiosity, I created a pie chart to see the room type distribution in Rio... "
   ]
  },
  {
   "cell_type": "code",
   "execution_count": 9,
   "metadata": {},
   "outputs": [
    {
     "data": {
      "text/plain": [
       "<matplotlib.axes._subplots.AxesSubplot at 0x7ff359b1a210>"
      ]
     },
     "execution_count": 9,
     "metadata": {},
     "output_type": "execute_result"
    },
    {
     "data": {
      "image/png": "[encoded data removed]",
      "text/plain": [
       "<Figure size 576x576 with 1 Axes>"
      ]
     },
     "metadata": {},
     "output_type": "display_data"
    }
   ],
   "source": [
    "room = rio.room_type\n",
    "r = Counter(room)\n",
    "\n",
    "room_rio = pd.DataFrame.from_dict(r, orient='index').sort_values(by=0)\n",
    "room_rio.columns = ['room_type']\n",
    "room_rio.plot.pie(y = 'room_type', \n",
    "                 colormap = 'Oranges_r', \n",
    "                 figsize=(8,8), \n",
    "                 fontsize = 20, autopct = '%.2f',\n",
    "                 legend = False,\n",
    "                 title = 'Room Type Distribution')"
   ]
  },
  {
   "cell_type": "markdown",
   "metadata": {},
   "source": [
    "### ...and a scatterplot to see the relationship between reviews and price."
   ]
  },
  {
   "cell_type": "code",
   "execution_count": 10,
   "metadata": {},
   "outputs": [
    {
     "data": {
      "text/plain": [
       "<matplotlib.axes._subplots.AxesSubplot at 0x7ff359bf4fd0>"
      ]
     },
     "execution_count": 10,
     "metadata": {},
     "output_type": "execute_result"
    },
    {
     "data": {
      "image/png": "[encoded data removed]",
      "text/plain": [
       "<Figure size 864x576 with 1 Axes>"
      ]
     },
     "metadata": {
      "needs_background": "light"
     },
     "output_type": "display_data"
    }
   ],
   "source": [
    "price_review = rio[['number_of_reviews', 'price']].sort_values(by = 'price')\n",
    "\n",
    "price_review.plot(x = 'price', \n",
    "                  y = 'number_of_reviews', \n",
    "                  style = 'o',\n",
    "                  figsize =(12,8),\n",
    "                  legend = False,\n",
    "                  title = 'Reviews based on Price')"
   ]
  },
  {
   "cell_type": "markdown",
   "metadata": {},
   "source": [
    "### Before starting to reach out to hosts in Lagoa, I decided to narrow down the ones with the most reviews during Carnival, a Brazilian festival traditionally held every February.\n",
    "\n",
    "### Firstly, I combined my listing data set with a review data set, also available at insideairbnb.com. The second contains the dates that those listings where booked."
   ]
  },
  {
   "cell_type": "code",
   "execution_count": 11,
   "metadata": {},
   "outputs": [
    {
     "name": "stdout",
     "output_type": "stream",
     "text": [
      "              id    host_id  host_name             neighbourhood  \\\n",
      "0          17878      68997   Matthias                Copacabana   \n",
      "1          17878      68997   Matthias                Copacabana   \n",
      "2          17878      68997   Matthias                Copacabana   \n",
      "3          17878      68997   Matthias                Copacabana   \n",
      "4          17878      68997   Matthias                Copacabana   \n",
      "...          ...        ...        ...                       ...   \n",
      "298022  44337570   91654021     Daniel                    Leblon   \n",
      "298023  44337678  357540576   Bernardo                Copacabana   \n",
      "298024  44338103  357651021  Ana Luiza   Freguesia (Jacarepaguá)   \n",
      "298025  44338273  155224911    Tatiana                Copacabana   \n",
      "298026  44338764  357699633  Jackeline  Recreio dos Bandeirantes   \n",
      "\n",
      "              room_type  price  number_of_reviews  reviews_per_month  \\\n",
      "0       Entire home/apt   38.0                252               2.07   \n",
      "1       Entire home/apt   38.0                252               2.07   \n",
      "2       Entire home/apt   38.0                252               2.07   \n",
      "3       Entire home/apt   38.0                252               2.07   \n",
      "4       Entire home/apt   38.0                252               2.07   \n",
      "...                 ...    ...                ...                ...   \n",
      "298022  Entire home/apt  140.0                  0               0.00   \n",
      "298023  Entire home/apt   46.4                  0               0.00   \n",
      "298024     Private room   38.0                  0               0.00   \n",
      "298025      Shared room   13.6                  0               0.00   \n",
      "298026  Entire home/apt  257.2                  0               0.00   \n",
      "\n",
      "        calculated_host_listings_count  availability_365  listing_id  \\\n",
      "0                                    1               184     17878.0   \n",
      "1                                    1               184     17878.0   \n",
      "2                                    1               184     17878.0   \n",
      "3                                    1               184     17878.0   \n",
      "4                                    1               184     17878.0   \n",
      "...                                ...               ...         ...   \n",
      "298022                             200               180         NaN   \n",
      "298023                               1               363         NaN   \n",
      "298024                               2                84         NaN   \n",
      "298025                               1               153         NaN   \n",
      "298026                               1               359         NaN   \n",
      "\n",
      "              date  \n",
      "0       2010-07-15  \n",
      "1       2010-08-11  \n",
      "2       2010-09-06  \n",
      "3       2010-11-12  \n",
      "4       2010-12-01  \n",
      "...            ...  \n",
      "298022         NaN  \n",
      "298023         NaN  \n",
      "298024         NaN  \n",
      "298025         NaN  \n",
      "298026         NaN  \n",
      "\n",
      "[298027 rows x 12 columns]\n"
     ]
    }
   ],
   "source": [
    "review = pd.read_csv(listings_review_file)\n",
    "\n",
    "review['id'] = review['listing_id']\n",
    "df3 = pd.merge(rio, review, how='left', on='id')\n",
    "\n",
    "print(df3)"
   ]
  },
  {
   "cell_type": "markdown",
   "metadata": {},
   "source": [
    "### Later, I filtered the data to show me only the listings located in Lagoa, which costs between 175 and 200 dollars, and which received at least eight reviews."
   ]
  },
  {
   "cell_type": "code",
   "execution_count": 12,
   "metadata": {},
   "outputs": [
    {
     "name": "stdout",
     "output_type": "stream",
     "text": [
      "110449    2016-01-03\n",
      "110450    2016-01-20\n",
      "110451    2016-02-11\n",
      "110452    2016-07-31\n",
      "110453    2016-08-15\n",
      "110454    2017-02-05\n",
      "110455    2017-03-02\n",
      "110456    2017-07-30\n",
      "110457    2018-01-03\n",
      "110458    2019-01-02\n",
      "118797    2015-09-28\n",
      "118798    2016-02-09\n",
      "118799    2016-08-21\n",
      "118800    2017-03-01\n",
      "118801    2017-11-21\n",
      "118802    2017-11-27\n",
      "118803    2018-02-16\n",
      "118804    2018-04-02\n",
      "148139    2016-02-10\n",
      "148140    2016-03-27\n",
      "148141    2016-04-11\n",
      "148142    2016-07-23\n",
      "148143    2016-08-08\n",
      "148144    2017-01-02\n",
      "148145    2017-03-01\n",
      "148146    2017-04-02\n",
      "148147    2017-09-11\n",
      "148148    2018-01-01\n",
      "148149    2018-07-05\n",
      "148150    2018-08-26\n",
      "148151    2019-01-01\n",
      "148152    2019-03-05\n",
      "148153    2019-10-06\n",
      "148154    2020-01-01\n",
      "148155    2020-02-26\n",
      "Name: date, dtype: object\n"
     ]
    }
   ],
   "source": [
    "popular_hosts = df3[(df3.neighbourhood == 'Lagoa') & (df3.price <= 200) & (df3.price >= 175) & (df3.number_of_reviews >= 8)]\n",
    "\n",
    "print(popular_hosts['date'])\n",
    "\n"
   ]
  },
  {
   "cell_type": "markdown",
   "metadata": {},
   "source": [
    "### Lastly, after updated the date column from string to date, using import datetime, I printed the list with the name of three hosts - Paula, Regina, and Luiz Andre - as well as their id numbers."
   ]
  },
  {
   "cell_type": "code",
   "execution_count": 13,
   "metadata": {},
   "outputs": [
    {
     "name": "stdout",
     "output_type": "stream",
     "text": [
      "         host_id   host_name  price  number_of_reviews neighbourhood  \\\n",
      "110451  21139427       Paula  199.6                 10         Lagoa   \n",
      "110454  21139427       Paula  199.6                 10         Lagoa   \n",
      "118798  19161707      Regina  185.2                  8         Lagoa   \n",
      "118803  19161707      Regina  185.2                  8         Lagoa   \n",
      "148139  56705432  Luiz André  199.6                 17         Lagoa   \n",
      "148155  56705432  Luiz André  199.6                 17         Lagoa   \n",
      "\n",
      "             date  \n",
      "110451 2016-02-11  \n",
      "110454 2017-02-05  \n",
      "118798 2016-02-09  \n",
      "118803 2018-02-16  \n",
      "148139 2016-02-10  \n",
      "148155 2020-02-26  \n"
     ]
    },
    {
     "name": "stderr",
     "output_type": "stream",
     "text": [
      "/Users/danisouza/opt/anaconda3/lib/python3.7/site-packages/ipykernel_launcher.py:3: SettingWithCopyWarning: \n",
      "A value is trying to be set on a copy of a slice from a DataFrame.\n",
      "Try using .loc[row_indexer,col_indexer] = value instead\n",
      "\n",
      "See the caveats in the documentation: https://pandas.pydata.org/pandas-docs/stable/user_guide/indexing.html#returning-a-view-versus-a-copy\n",
      "  This is separate from the ipykernel package so we can avoid doing imports until\n"
     ]
    }
   ],
   "source": [
    "import datetime\n",
    "\n",
    "popular_hosts[\"date\"] = pd.to_datetime(popular_hosts[\"date\"])                                         \n",
    "carnival = popular_hosts[pd.to_datetime(popular_hosts.loc[:,'date']).dt.month == 2]\n",
    "\n",
    "print(carnival[['host_id', 'host_name', 'price', 'number_of_reviews', 'neighbourhood', 'date']])\n"
   ]
  },
  {
   "cell_type": "markdown",
   "metadata": {},
   "source": [
    "### With that data, I can go to the app and look for their contact information and hopefully get some insights into how does it take to host a property that is very similar to the one I plan on purchasing soon.\n",
    "\n",
    "### Thanks for reading!"
   ]
  },
  {
   "cell_type": "code",
   "execution_count": null,
   "metadata": {},
   "outputs": [],
   "source": []
  }
 ],
 "metadata": {
  "kernelspec": {
   "display_name": "Python 3",
   "language": "python",
   "name": "python3"
  },
  "language_info": {
   "codemirror_mode": {
    "name": "ipython",
    "version": 3
   },
   "file_extension": ".py",
   "mimetype": "text/x-python",
   "name": "python",
   "nbconvert_exporter": "python",
   "pygments_lexer": "ipython3",
   "version": "3.7.6"
  }
 },
 "nbformat": 4,
 "nbformat_minor": 4
}
